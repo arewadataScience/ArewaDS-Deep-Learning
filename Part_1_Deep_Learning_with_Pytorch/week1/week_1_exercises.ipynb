{
  "cells": [
    {
      "cell_type": "markdown",
      "metadata": {
        "id": "avO4Vlm5btq9"
      },
      "source": [
        "## Arewa DataScience Academy\n",
        "### Deep Learning Cohort 1.0\n",
        "### Name : mohammed nasiru\n",
        "### Email : katada3020@gmail.com\n",
        "\n",
        "### WEEK 1 Exercises"
      ]
    },
    {
      "cell_type": "markdown",
      "metadata": {
        "id": "7zZmLplLbtrJ"
      },
      "source": [
        "### Exercises:\n",
        "Please, see week 1 exercises from [**Learn PyTorch for Deep Learning**: 00. Pytorch Fundamentals](https://www.learnpytorch.io/00_pytorch_fundamentals/#exercises)"
      ]
    },
    {
      "cell_type": "markdown",
      "metadata": {
        "id": "pTsoujwsbtrL"
      },
      "source": [
        "### Additional Exercise"
      ]
    },
    {
      "cell_type": "code",
      "execution_count": 2,
      "metadata": {
        "vscode": {
          "languageId": "plaintext"
        },
        "id": "L4fExipgbtrM"
      },
      "outputs": [],
      "source": [
        "#imports\n",
        "import torch"
      ]
    },
    {
      "cell_type": "markdown",
      "source": [
        "1 Documentation reading - A big part of deep learning (and learning to code in general) is getting familiar with the documentation of a certain framework you're using. We'll be using the PyTorch documentation a lot throughout the rest of this course. So I'd recommend spending 10-minutes reading the following (it's okay if you don't get some things for now, the focus is not yet full understanding, it's awareness). See the documentation on torch.Tensor and for torch.cuda."
      ],
      "metadata": {
        "id": "JpkyYzvYdaw-"
      }
    },
    {
      "cell_type": "code",
      "source": [
        "#2. Create a random tensor with shape (7, 7)\n",
        "random_tensor = torch.rand(7,7)\n",
        "random_tensor"
      ],
      "metadata": {
        "colab": {
          "base_uri": "https://localhost:8080/"
        },
        "id": "2FA7egk0dibF",
        "outputId": "d11eddee-48bf-4787-a476-625fa0627b6c"
      },
      "execution_count": 3,
      "outputs": [
        {
          "output_type": "execute_result",
          "data": {
            "text/plain": [
              "tensor([[0.2786, 0.6433, 0.9123, 0.4081, 0.0929, 0.5872, 0.5338],\n",
              "        [0.5620, 0.3224, 0.7754, 0.4435, 0.6841, 0.5883, 0.1725],\n",
              "        [0.5943, 0.1253, 0.6376, 0.8613, 0.3860, 0.9380, 0.1353],\n",
              "        [0.7254, 0.4970, 0.3879, 0.9906, 0.1109, 0.0274, 0.8096],\n",
              "        [0.4879, 0.9880, 0.8715, 0.6121, 0.2404, 0.3733, 0.8164],\n",
              "        [0.3921, 0.8757, 0.3678, 0.7095, 0.7479, 0.2668, 0.0350],\n",
              "        [0.4320, 0.0892, 0.9823, 0.6301, 0.6586, 0.4471, 0.0691]])"
            ]
          },
          "metadata": {},
          "execution_count": 3
        }
      ]
    },
    {
      "cell_type": "code",
      "source": [
        "#3. Perform a matrix multiplication on the tensor from 2 with another random tensor with shape (1, 7) (hint: you may have to transpose the second tensor).\n",
        "random_tensorB = torch.rand(1,7)\n",
        "new_tensor = torch.matmul(random_tensor,random_tensorB.T)\n",
        "new_tensor"
      ],
      "metadata": {
        "colab": {
          "base_uri": "https://localhost:8080/"
        },
        "id": "8BBDNutNeGZc",
        "outputId": "b7220284-a764-496a-961a-e95eff0413e3"
      },
      "execution_count": 4,
      "outputs": [
        {
          "output_type": "execute_result",
          "data": {
            "text/plain": [
              "tensor([[1.3707],\n",
              "        [1.2681],\n",
              "        [1.4721],\n",
              "        [0.8596],\n",
              "        [1.4368],\n",
              "        [1.0763],\n",
              "        [1.2253]])"
            ]
          },
          "metadata": {},
          "execution_count": 4
        }
      ]
    },
    {
      "cell_type": "code",
      "source": [
        "#4. Set the random seed to 0 and do exercises 2 & 3 over again.\n",
        "RANDOM_SEED = 0\n",
        "torch.manual_seed(seed=RANDOM_SEED)\n",
        "random_tensorA = torch.rand(7,7)\n",
        "random_tensorB = torch.rand(1,7)\n",
        "new_tensor = torch.matmul(random_tensorA,random_tensorB.T)\n",
        "new_tensor"
      ],
      "metadata": {
        "colab": {
          "base_uri": "https://localhost:8080/"
        },
        "id": "BdmwEQise2-7",
        "outputId": "4cc8aa80-c79d-4d65-8641-fb3127437f96"
      },
      "execution_count": 8,
      "outputs": [
        {
          "output_type": "execute_result",
          "data": {
            "text/plain": [
              "tensor([[1.8542],\n",
              "        [1.9611],\n",
              "        [2.2884],\n",
              "        [3.0481],\n",
              "        [1.7067],\n",
              "        [2.5290],\n",
              "        [1.7989]])"
            ]
          },
          "metadata": {},
          "execution_count": 8
        }
      ]
    },
    {
      "cell_type": "code",
      "source": [
        "cuda_is_available = torch.cuda.is_available\n",
        "if cuda_is_available:\n",
        "  cuda_version = torch.version.cuda\n",
        "  print(f'cuda is available {cuda_is_available}')"
      ],
      "metadata": {
        "colab": {
          "base_uri": "https://localhost:8080/"
        },
        "id": "XFSNBjHwiSvL",
        "outputId": "2b0e3ee4-6d41-468a-c14a-c99cd9f5b4d6"
      },
      "execution_count": 6,
      "outputs": [
        {
          "output_type": "stream",
          "name": "stdout",
          "text": [
            "cuda is available <function is_available at 0x7aa3349b8c10>\n"
          ]
        }
      ]
    },
    {
      "cell_type": "code",
      "source": [
        "RANDOM_SEED = 0\n",
        "torch.manual_seed(seed=RANDOM_SEED)\n",
        "random_tensorA = torch.rand(7,7)"
      ],
      "metadata": {
        "id": "Ayj1vH2ClLrt"
      },
      "execution_count": 7,
      "outputs": []
    },
    {
      "cell_type": "code",
      "source": [
        "\n",
        "if torch.cuda.is_available():\n",
        "    torch.cuda.manual_seed_all(1234)\n",
        "else:\n",
        "    print(\"GPU not available, setting only CPU seed.\")\n",
        "\n",
        "\n",
        "torch.manual_seed(1234)"
      ],
      "metadata": {
        "colab": {
          "base_uri": "https://localhost:8080/"
        },
        "id": "0QnS2IEplOny",
        "outputId": "d19496c0-ff4c-49dc-cace-e4bd4805ef7f"
      },
      "execution_count": 8,
      "outputs": [
        {
          "output_type": "stream",
          "name": "stdout",
          "text": [
            "GPU not available, setting only CPU seed.\n"
          ]
        },
        {
          "output_type": "execute_result",
          "data": {
            "text/plain": [
              "<torch._C.Generator at 0x7aa3367e57f0>"
            ]
          },
          "metadata": {},
          "execution_count": 8
        }
      ]
    },
    {
      "cell_type": "code",
      "source": [
        "#6\n",
        "import torch\n",
        "if torch.cuda.is_available():\n",
        "    tensor1 = torch.randn(2, 3, device='cuda')\n",
        "    tensor2 = torch.randn(3, 2, device='cuda')\n",
        "else:\n",
        "    print('GPU not available, creating tensors on CPU.')\n"
      ],
      "metadata": {
        "id": "0DATUcrXm87n"
      },
      "execution_count": 2,
      "outputs": []
    },
    {
      "cell_type": "code",
      "source": [
        "matrix_result = torch.matmul(tensor1,tensor2)\n",
        "matrix_result"
      ],
      "metadata": {
        "id": "TXOdPGy5nuUR",
        "outputId": "b50da919-68d9-4a6e-f4d2-168689f2a689",
        "colab": {
          "base_uri": "https://localhost:8080/"
        }
      },
      "execution_count": 4,
      "outputs": [
        {
          "output_type": "execute_result",
          "data": {
            "text/plain": [
              "tensor([[-2.1050, -0.3310],\n",
              "        [-2.8529, -0.7379]], device='cuda:0')"
            ]
          },
          "metadata": {},
          "execution_count": 4
        }
      ]
    },
    {
      "cell_type": "code",
      "source": [
        "max = matrix_result.argmax().item()\n",
        "min = matrix_result.argmin().item()\n",
        "print('Maximum index:', max)\n",
        "print('Minimum index:', min)"
      ],
      "metadata": {
        "id": "peAmgMa6oXHl",
        "outputId": "5fa3cfa4-a947-438d-c97f-378732e0b91d",
        "colab": {
          "base_uri": "https://localhost:8080/"
        }
      },
      "execution_count": 9,
      "outputs": [
        {
          "output_type": "stream",
          "name": "stdout",
          "text": [
            "Maximum index: 1\n",
            "Minimum index: 2\n"
          ]
        }
      ]
    }
  ],
  "metadata": {
    "language_info": {
      "name": "python"
    },
    "colab": {
      "provenance": [],
      "gpuType": "T4"
    },
    "kernelspec": {
      "name": "python3",
      "display_name": "Python 3"
    },
    "accelerator": "GPU"
  },
  "nbformat": 4,
  "nbformat_minor": 0
}