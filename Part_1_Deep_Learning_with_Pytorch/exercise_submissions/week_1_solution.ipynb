{
  "nbformat": 4,
  "nbformat_minor": 0,
  "metadata": {
    "colab": {
      "provenance": [],
      "mount_file_id": "14UmMWNx2EQYSE8DAgJPfTtBPEg2-8u2C",
      "authorship_tag": "ABX9TyPTQroWytOaVB2psEIWrE30",
      "include_colab_link": true
    },
    "kernelspec": {
      "name": "python3",
      "display_name": "Python 3"
    },
    "language_info": {
      "name": "python"
    }
  },
  "cells": [
    {
      "cell_type": "markdown",
      "metadata": {
        "id": "view-in-github",
        "colab_type": "text"
      },
      "source": [
        "<a href=\"https://colab.research.google.com/github/katada3020/ArewaDS-Deep-Learning/blob/main/Part_1_Deep_Learning_with_Pytorch/exercise_submissions/week_1_solution.ipynb\" target=\"_parent\"><img src=\"https://colab.research.google.com/assets/colab-badge.svg\" alt=\"Open In Colab\"/></a>"
      ]
    },
    {
      "cell_type": "code",
      "source": [
        "import torch\n",
        "torch.__version__"
      ],
      "metadata": {
        "colab": {
          "base_uri": "https://localhost:8080/",
          "height": 35
        },
        "id": "oVlhYIS_MvrM",
        "outputId": "6d562c65-204d-4c5d-c8f2-768be1a2e6e4"
      },
      "execution_count": null,
      "outputs": [
        {
          "output_type": "execute_result",
          "data": {
            "text/plain": [
              "'2.1.0+cu121'"
            ],
            "application/vnd.google.colaboratory.intrinsic+json": {
              "type": "string"
            }
          },
          "metadata": {},
          "execution_count": 2
        }
      ]
    },
    {
      "cell_type": "code",
      "source": [
        "# scalar\n",
        "scalar = torch.tensor(7)\n",
        "scalar"
      ],
      "metadata": {
        "colab": {
          "base_uri": "https://localhost:8080/"
        },
        "id": "j7pLBPuXPCmk",
        "outputId": "c565eb9d-eeb4-4e44-e369-45cf89e4eca8"
      },
      "execution_count": null,
      "outputs": [
        {
          "output_type": "execute_result",
          "data": {
            "text/plain": [
              "tensor(7)"
            ]
          },
          "metadata": {},
          "execution_count": 2
        }
      ]
    },
    {
      "cell_type": "code",
      "source": [
        "scalar.ndim"
      ],
      "metadata": {
        "colab": {
          "base_uri": "https://localhost:8080/"
        },
        "id": "rOy8wwgDPukt",
        "outputId": "b67d0812-b8c9-43a6-a205-b614b5098e3b"
      },
      "execution_count": null,
      "outputs": [
        {
          "output_type": "execute_result",
          "data": {
            "text/plain": [
              "0"
            ]
          },
          "metadata": {},
          "execution_count": 3
        }
      ]
    },
    {
      "cell_type": "code",
      "source": [
        "scalar.item()"
      ],
      "metadata": {
        "colab": {
          "base_uri": "https://localhost:8080/"
        },
        "id": "omWZaGk0PzwV",
        "outputId": "e78107e9-f29c-40c1-f621-2d208c225556"
      },
      "execution_count": null,
      "outputs": [
        {
          "output_type": "execute_result",
          "data": {
            "text/plain": [
              "7"
            ]
          },
          "metadata": {},
          "execution_count": 26
        }
      ]
    },
    {
      "cell_type": "code",
      "source": [
        "#vector\n",
        "vector = torch.tensor([7,7])\n",
        "vector"
      ],
      "metadata": {
        "colab": {
          "base_uri": "https://localhost:8080/"
        },
        "id": "SvG1BuoBQHSK",
        "outputId": "b372c3ed-8401-4bcc-f942-bab95de76cbc"
      },
      "execution_count": null,
      "outputs": [
        {
          "output_type": "execute_result",
          "data": {
            "text/plain": [
              "tensor([7, 7])"
            ]
          },
          "metadata": {},
          "execution_count": 5
        }
      ]
    },
    {
      "cell_type": "code",
      "source": [
        "vector.ndim"
      ],
      "metadata": {
        "colab": {
          "base_uri": "https://localhost:8080/"
        },
        "id": "Tjsbp3l8QmAJ",
        "outputId": "c0ff6e22-8f6c-4433-ec55-449c76a435dd"
      },
      "execution_count": null,
      "outputs": [
        {
          "output_type": "execute_result",
          "data": {
            "text/plain": [
              "1"
            ]
          },
          "metadata": {},
          "execution_count": 6
        }
      ]
    },
    {
      "cell_type": "code",
      "source": [
        "vector.shape"
      ],
      "metadata": {
        "colab": {
          "base_uri": "https://localhost:8080/"
        },
        "id": "gO3aV3GBQpiO",
        "outputId": "367f7ac2-032d-4a5f-a14d-42f83057aebc"
      },
      "execution_count": null,
      "outputs": [
        {
          "output_type": "execute_result",
          "data": {
            "text/plain": [
              "torch.Size([2])"
            ]
          },
          "metadata": {},
          "execution_count": 7
        }
      ]
    },
    {
      "cell_type": "code",
      "source": [
        "#matrix\n",
        "matrix = torch.tensor([[7,8],\n",
        "                       [9,10]])\n",
        "matrix"
      ],
      "metadata": {
        "colab": {
          "base_uri": "https://localhost:8080/"
        },
        "id": "jRE4CIdoRYHl",
        "outputId": "b679bb05-c1db-44a0-e45b-4f728274abf1"
      },
      "execution_count": null,
      "outputs": [
        {
          "output_type": "execute_result",
          "data": {
            "text/plain": [
              "tensor([[ 7,  8],\n",
              "        [ 9, 10]])"
            ]
          },
          "metadata": {},
          "execution_count": 8
        }
      ]
    },
    {
      "cell_type": "code",
      "source": [
        "matrix.ndim"
      ],
      "metadata": {
        "colab": {
          "base_uri": "https://localhost:8080/"
        },
        "id": "cBIR2M-uR-KB",
        "outputId": "e94fa7e5-e9d8-49db-9108-d8e17b61ca87"
      },
      "execution_count": null,
      "outputs": [
        {
          "output_type": "execute_result",
          "data": {
            "text/plain": [
              "2"
            ]
          },
          "metadata": {},
          "execution_count": 34
        }
      ]
    },
    {
      "cell_type": "code",
      "source": [
        "matrix.shape"
      ],
      "metadata": {
        "colab": {
          "base_uri": "https://localhost:8080/"
        },
        "id": "RgXUTzK2SJd9",
        "outputId": "c7d8dc4e-d34a-448d-cc91-43842532c48c"
      },
      "execution_count": null,
      "outputs": [
        {
          "output_type": "execute_result",
          "data": {
            "text/plain": [
              "torch.Size([2, 2])"
            ]
          },
          "metadata": {},
          "execution_count": 35
        }
      ]
    },
    {
      "cell_type": "code",
      "source": [
        "#Tensor\n",
        "TENSOR = torch.tensor([[[1,2,3],\n",
        "                        [4,5,6],\n",
        "                        [7,8,9]]])\n",
        "TENSOR"
      ],
      "metadata": {
        "colab": {
          "base_uri": "https://localhost:8080/"
        },
        "id": "iqayL9fPSQjW",
        "outputId": "22e8e835-98db-4e8b-8633-51849592e9c8"
      },
      "execution_count": null,
      "outputs": [
        {
          "output_type": "execute_result",
          "data": {
            "text/plain": [
              "tensor([[[1, 2, 3],\n",
              "         [4, 5, 6],\n",
              "         [7, 8, 9]]])"
            ]
          },
          "metadata": {},
          "execution_count": 37
        }
      ]
    },
    {
      "cell_type": "code",
      "source": [
        "TENSOR.ndim"
      ],
      "metadata": {
        "colab": {
          "base_uri": "https://localhost:8080/"
        },
        "id": "2AHi-v7NTSkm",
        "outputId": "7399a773-152f-4847-d0e9-947d5f0d9062"
      },
      "execution_count": null,
      "outputs": [
        {
          "output_type": "execute_result",
          "data": {
            "text/plain": [
              "3"
            ]
          },
          "metadata": {},
          "execution_count": 38
        }
      ]
    },
    {
      "cell_type": "code",
      "source": [
        "torch.multiply(tensor,10)"
      ],
      "metadata": {
        "colab": {
          "base_uri": "https://localhost:8080/"
        },
        "id": "Vgsa93mCn5I2",
        "outputId": "4d2b981a-c26d-4c93-8203-524d57d7138c"
      },
      "execution_count": null,
      "outputs": [
        {
          "output_type": "execute_result",
          "data": {
            "text/plain": [
              "tensor([10, 20, 30])"
            ]
          },
          "metadata": {},
          "execution_count": 7
        }
      ]
    },
    {
      "cell_type": "code",
      "source": [
        "TENSOR.shape"
      ],
      "metadata": {
        "colab": {
          "base_uri": "https://localhost:8080/"
        },
        "id": "0E3yoHxRTYrY",
        "outputId": "cdf05475-71cd-4688-f1d1-c611a2bb8d3c"
      },
      "execution_count": null,
      "outputs": [
        {
          "output_type": "execute_result",
          "data": {
            "text/plain": [
              "torch.Size([1, 3, 3])"
            ]
          },
          "metadata": {},
          "execution_count": 39
        }
      ]
    },
    {
      "cell_type": "code",
      "source": [
        "random_tensor = torch.rand(size = (3,4))\n",
        "random_tensor, random_tensor.dtype"
      ],
      "metadata": {
        "colab": {
          "base_uri": "https://localhost:8080/"
        },
        "id": "qsOnwkDtUkH1",
        "outputId": "90a0a3fb-9c79-4c4c-a79e-cea2a6a731c0"
      },
      "execution_count": null,
      "outputs": [
        {
          "output_type": "execute_result",
          "data": {
            "text/plain": [
              "(tensor([[0.8861, 0.4586, 0.8887, 0.5278],\n",
              "         [0.9070, 0.9829, 0.8053, 0.8296],\n",
              "         [0.3199, 0.0335, 0.7847, 0.2212]]),\n",
              " torch.float32)"
            ]
          },
          "metadata": {},
          "execution_count": 40
        }
      ]
    },
    {
      "cell_type": "code",
      "source": [
        "!git clone https://github.com/katada3020/ArewaDS-Deep-Learning"
      ],
      "metadata": {
        "colab": {
          "base_uri": "https://localhost:8080/"
        },
        "id": "l7IiJJDF6Apf",
        "outputId": "31f07596-6dd0-40fd-adb9-9a9f5d69357c"
      },
      "execution_count": null,
      "outputs": [
        {
          "output_type": "stream",
          "name": "stdout",
          "text": [
            "fatal: destination path 'ArewaDS-Deep-Learning' already exists and is not an empty directory.\n"
          ]
        }
      ]
    },
    {
      "cell_type": "code",
      "source": [
        "!git init"
      ],
      "metadata": {
        "colab": {
          "base_uri": "https://localhost:8080/"
        },
        "id": "QrBlv1eB6oTx",
        "outputId": "4004bce7-9add-4994-9742-f047e4f3bfd1"
      },
      "execution_count": null,
      "outputs": [
        {
          "output_type": "stream",
          "name": "stdout",
          "text": [
            "\u001b[33mhint: Using 'master' as the name for the initial branch. This default branch name\u001b[m\n",
            "\u001b[33mhint: is subject to change. To configure the initial branch name to use in all\u001b[m\n",
            "\u001b[33mhint: of your new repositories, which will suppress this warning, call:\u001b[m\n",
            "\u001b[33mhint: \u001b[m\n",
            "\u001b[33mhint: \tgit config --global init.defaultBranch <name>\u001b[m\n",
            "\u001b[33mhint: \u001b[m\n",
            "\u001b[33mhint: Names commonly chosen instead of 'master' are 'main', 'trunk' and\u001b[m\n",
            "\u001b[33mhint: 'development'. The just-created branch can be renamed via this command:\u001b[m\n",
            "\u001b[33mhint: \u001b[m\n",
            "\u001b[33mhint: \tgit branch -m <name>\u001b[m\n",
            "Initialized empty Git repository in /content/.git/\n"
          ]
        }
      ]
    },
    {
      "cell_type": "code",
      "source": [
        "!!git clone https://github.com/katada3020/ArewaDS-Deep-Learning"
      ],
      "metadata": {
        "colab": {
          "base_uri": "https://localhost:8080/"
        },
        "id": "LxdIU7Au7xJq",
        "outputId": "6c025924-ce2a-467a-9294-a1220660efb1"
      },
      "execution_count": null,
      "outputs": [
        {
          "output_type": "execute_result",
          "data": {
            "text/plain": [
              "[\"Cloning into 'ArewaDS-Deep-Learning'...\",\n",
              " 'remote: Enumerating objects: 85, done.\\x1b[K',\n",
              " 'remote: Counting objects:   1% (1/85)\\x1b[K',\n",
              " 'remote: Counting objects:   2% (2/85)\\x1b[K',\n",
              " 'remote: Counting objects:   3% (3/85)\\x1b[K',\n",
              " 'remote: Counting objects:   4% (4/85)\\x1b[K',\n",
              " 'remote: Counting objects:   5% (5/85)\\x1b[K',\n",
              " 'remote: Counting objects:   7% (6/85)\\x1b[K',\n",
              " 'remote: Counting objects:   8% (7/85)\\x1b[K',\n",
              " 'remote: Counting objects:   9% (8/85)\\x1b[K',\n",
              " 'remote: Counting objects:  10% (9/85)\\x1b[K',\n",
              " 'remote: Counting objects:  11% (10/85)\\x1b[K',\n",
              " 'remote: Counting objects:  12% (11/85)\\x1b[K',\n",
              " 'remote: Counting objects:  14% (12/85)\\x1b[K',\n",
              " 'remote: Counting objects:  15% (13/85)\\x1b[K',\n",
              " 'remote: Counting objects:  16% (14/85)\\x1b[K',\n",
              " 'remote: Counting objects:  17% (15/85)\\x1b[K',\n",
              " 'remote: Counting objects:  18% (16/85)\\x1b[K',\n",
              " 'remote: Counting objects:  20% (17/85)\\x1b[K',\n",
              " 'remote: Counting objects:  21% (18/85)\\x1b[K',\n",
              " 'remote: Counting objects:  22% (19/85)\\x1b[K',\n",
              " 'remote: Counting objects:  23% (20/85)\\x1b[K',\n",
              " 'remote: Counting objects:  24% (21/85)\\x1b[K',\n",
              " 'remote: Counting objects:  25% (22/85)\\x1b[K',\n",
              " 'remote: Counting objects:  27% (23/85)\\x1b[K',\n",
              " 'remote: Counting objects:  28% (24/85)\\x1b[K',\n",
              " 'remote: Counting objects:  29% (25/85)\\x1b[K',\n",
              " 'remote: Counting objects:  30% (26/85)\\x1b[K',\n",
              " 'remote: Counting objects:  31% (27/85)\\x1b[K',\n",
              " 'remote: Counting objects:  32% (28/85)\\x1b[K',\n",
              " 'remote: Counting objects:  34% (29/85)\\x1b[K',\n",
              " 'remote: Counting objects:  35% (30/85)\\x1b[K',\n",
              " 'remote: Counting objects:  36% (31/85)\\x1b[K',\n",
              " 'remote: Counting objects:  37% (32/85)\\x1b[K',\n",
              " 'remote: Counting objects:  38% (33/85)\\x1b[K',\n",
              " 'remote: Counting objects:  40% (34/85)\\x1b[K',\n",
              " 'remote: Counting objects:  41% (35/85)\\x1b[K',\n",
              " 'remote: Counting objects:  42% (36/85)\\x1b[K',\n",
              " 'remote: Counting objects:  43% (37/85)\\x1b[K',\n",
              " 'remote: Counting objects:  44% (38/85)\\x1b[K',\n",
              " 'remote: Counting objects:  45% (39/85)\\x1b[K',\n",
              " 'remote: Counting objects:  47% (40/85)\\x1b[K',\n",
              " 'remote: Counting objects:  48% (41/85)\\x1b[K',\n",
              " 'remote: Counting objects:  49% (42/85)\\x1b[K',\n",
              " 'remote: Counting objects:  50% (43/85)\\x1b[K',\n",
              " 'remote: Counting objects:  51% (44/85)\\x1b[K',\n",
              " 'remote: Counting objects:  52% (45/85)\\x1b[K',\n",
              " 'remote: Counting objects:  54% (46/85)\\x1b[K',\n",
              " 'remote: Counting objects:  55% (47/85)\\x1b[K',\n",
              " 'remote: Counting objects:  56% (48/85)\\x1b[K',\n",
              " 'remote: Counting objects:  57% (49/85)\\x1b[K',\n",
              " 'remote: Counting objects:  58% (50/85)\\x1b[K',\n",
              " 'remote: Counting objects:  60% (51/85)\\x1b[K',\n",
              " 'remote: Counting objects:  61% (52/85)\\x1b[K',\n",
              " 'remote: Counting objects:  62% (53/85)\\x1b[K',\n",
              " 'remote: Counting objects:  63% (54/85)\\x1b[K',\n",
              " 'remote: Counting objects:  64% (55/85)\\x1b[K',\n",
              " 'remote: Counting objects:  65% (56/85)\\x1b[K',\n",
              " 'remote: Counting objects:  67% (57/85)\\x1b[K',\n",
              " 'remote: Counting objects:  68% (58/85)\\x1b[K',\n",
              " 'remote: Counting objects:  69% (59/85)\\x1b[K',\n",
              " 'remote: Counting objects:  70% (60/85)\\x1b[K',\n",
              " 'remote: Counting objects:  71% (61/85)\\x1b[K',\n",
              " 'remote: Counting objects:  72% (62/85)\\x1b[K',\n",
              " 'remote: Counting objects:  74% (63/85)\\x1b[K',\n",
              " 'remote: Counting objects:  75% (64/85)\\x1b[K',\n",
              " 'remote: Counting objects:  76% (65/85)\\x1b[K',\n",
              " 'remote: Counting objects:  77% (66/85)\\x1b[K',\n",
              " 'remote: Counting objects:  78% (67/85)\\x1b[K',\n",
              " 'remote: Counting objects:  80% (68/85)\\x1b[K',\n",
              " 'remote: Counting objects:  81% (69/85)\\x1b[K',\n",
              " 'remote: Counting objects:  82% (70/85)\\x1b[K',\n",
              " 'remote: Counting objects:  83% (71/85)\\x1b[K',\n",
              " 'remote: Counting objects:  84% (72/85)\\x1b[K',\n",
              " 'remote: Counting objects:  85% (73/85)\\x1b[K',\n",
              " 'remote: Counting objects:  87% (74/85)\\x1b[K',\n",
              " 'remote: Counting objects:  88% (75/85)\\x1b[K',\n",
              " 'remote: Counting objects:  89% (76/85)\\x1b[K',\n",
              " 'remote: Counting objects:  90% (77/85)\\x1b[K',\n",
              " 'remote: Counting objects:  91% (78/85)\\x1b[K',\n",
              " 'remote: Counting objects:  92% (79/85)\\x1b[K',\n",
              " 'remote: Counting objects:  94% (80/85)\\x1b[K',\n",
              " 'remote: Counting objects:  95% (81/85)\\x1b[K',\n",
              " 'remote: Counting objects:  96% (82/85)\\x1b[K',\n",
              " 'remote: Counting objects:  97% (83/85)\\x1b[K',\n",
              " 'remote: Counting objects:  98% (84/85)\\x1b[K',\n",
              " 'remote: Counting objects: 100% (85/85)\\x1b[K',\n",
              " 'remote: Counting objects: 100% (85/85), done.\\x1b[K',\n",
              " 'remote: Compressing objects:   1% (1/75)\\x1b[K',\n",
              " 'remote: Compressing objects:   2% (2/75)\\x1b[K',\n",
              " 'remote: Compressing objects:   4% (3/75)\\x1b[K',\n",
              " 'remote: Compressing objects:   5% (4/75)\\x1b[K',\n",
              " 'remote: Compressing objects:   6% (5/75)\\x1b[K',\n",
              " 'remote: Compressing objects:   8% (6/75)\\x1b[K',\n",
              " 'remote: Compressing objects:   9% (7/75)\\x1b[K',\n",
              " 'remote: Compressing objects:  10% (8/75)\\x1b[K',\n",
              " 'remote: Compressing objects:  12% (9/75)\\x1b[K',\n",
              " 'remote: Compressing objects:  13% (10/75)\\x1b[K',\n",
              " 'remote: Compressing objects:  14% (11/75)\\x1b[K',\n",
              " 'remote: Compressing objects:  16% (12/75)\\x1b[K',\n",
              " 'remote: Compressing objects:  17% (13/75)\\x1b[K',\n",
              " 'remote: Compressing objects:  18% (14/75)\\x1b[K',\n",
              " 'remote: Compressing objects:  20% (15/75)\\x1b[K',\n",
              " 'remote: Compressing objects:  21% (16/75)\\x1b[K',\n",
              " 'remote: Compressing objects:  22% (17/75)\\x1b[K',\n",
              " 'remote: Compressing objects:  24% (18/75)\\x1b[K',\n",
              " 'remote: Compressing objects:  25% (19/75)\\x1b[K',\n",
              " 'remote: Compressing objects:  26% (20/75)\\x1b[K',\n",
              " 'remote: Compressing objects:  28% (21/75)\\x1b[K',\n",
              " 'remote: Compressing objects:  29% (22/75)\\x1b[K',\n",
              " 'remote: Compressing objects:  30% (23/75)\\x1b[K',\n",
              " 'remote: Compressing objects:  32% (24/75)\\x1b[K',\n",
              " 'remote: Compressing objects:  33% (25/75)\\x1b[K',\n",
              " 'remote: Compressing objects:  34% (26/75)\\x1b[K',\n",
              " 'remote: Compressing objects:  36% (27/75)\\x1b[K',\n",
              " 'remote: Compressing objects:  37% (28/75)\\x1b[K',\n",
              " 'remote: Compressing objects:  38% (29/75)\\x1b[K',\n",
              " 'remote: Compressing objects:  40% (30/75)\\x1b[K',\n",
              " 'remote: Compressing objects:  41% (31/75)\\x1b[K',\n",
              " 'remote: Compressing objects:  42% (32/75)\\x1b[K',\n",
              " 'remote: Compressing objects:  44% (33/75)\\x1b[K',\n",
              " 'remote: Compressing objects:  45% (34/75)\\x1b[K',\n",
              " 'remote: Compressing objects:  46% (35/75)\\x1b[K',\n",
              " 'remote: Compressing objects:  48% (36/75)\\x1b[K',\n",
              " 'remote: Compressing objects:  49% (37/75)\\x1b[K',\n",
              " 'remote: Compressing objects:  50% (38/75)\\x1b[K',\n",
              " 'remote: Compressing objects:  52% (39/75)\\x1b[K',\n",
              " 'remote: Compressing objects:  53% (40/75)\\x1b[K',\n",
              " 'remote: Compressing objects:  54% (41/75)\\x1b[K',\n",
              " 'remote: Compressing objects:  56% (42/75)\\x1b[K',\n",
              " 'remote: Compressing objects:  57% (43/75)\\x1b[K',\n",
              " 'remote: Compressing objects:  58% (44/75)\\x1b[K',\n",
              " 'remote: Compressing objects:  60% (45/75)\\x1b[K',\n",
              " 'remote: Compressing objects:  61% (46/75)\\x1b[K',\n",
              " 'remote: Compressing objects:  62% (47/75)\\x1b[K',\n",
              " 'remote: Compressing objects:  64% (48/75)\\x1b[K',\n",
              " 'remote: Compressing objects:  65% (49/75)\\x1b[K',\n",
              " 'remote: Compressing objects:  66% (50/75)\\x1b[K',\n",
              " 'remote: Compressing objects:  68% (51/75)\\x1b[K',\n",
              " 'remote: Compressing objects:  69% (52/75)\\x1b[K',\n",
              " 'remote: Compressing objects:  70% (53/75)\\x1b[K',\n",
              " 'remote: Compressing objects:  72% (54/75)\\x1b[K',\n",
              " 'remote: Compressing objects:  73% (55/75)\\x1b[K',\n",
              " 'remote: Compressing objects:  74% (56/75)\\x1b[K',\n",
              " 'remote: Compressing objects:  76% (57/75)\\x1b[K',\n",
              " 'remote: Compressing objects:  77% (58/75)\\x1b[K',\n",
              " 'remote: Compressing objects:  78% (59/75)\\x1b[K',\n",
              " 'remote: Compressing objects:  80% (60/75)\\x1b[K',\n",
              " 'remote: Compressing objects:  81% (61/75)\\x1b[K',\n",
              " 'remote: Compressing objects:  82% (62/75)\\x1b[K',\n",
              " 'remote: Compressing objects:  84% (63/75)\\x1b[K',\n",
              " 'remote: Compressing objects:  85% (64/75)\\x1b[K',\n",
              " 'remote: Compressing objects:  86% (65/75)\\x1b[K',\n",
              " 'remote: Compressing objects:  88% (66/75)\\x1b[K',\n",
              " 'remote: Compressing objects:  89% (67/75)\\x1b[K',\n",
              " 'remote: Compressing objects:  90% (68/75)\\x1b[K',\n",
              " 'remote: Compressing objects:  92% (69/75)\\x1b[K',\n",
              " 'remote: Compressing objects:  93% (70/75)\\x1b[K',\n",
              " 'remote: Compressing objects:  94% (71/75)\\x1b[K',\n",
              " 'remote: Compressing objects:  96% (72/75)\\x1b[K',\n",
              " 'remote: Compressing objects:  97% (73/75)\\x1b[K',\n",
              " 'remote: Compressing objects:  98% (74/75)\\x1b[K',\n",
              " 'remote: Compressing objects: 100% (75/75)\\x1b[K',\n",
              " 'remote: Compressing objects: 100% (75/75), done.\\x1b[K',\n",
              " 'Receiving objects:   1% (1/85)',\n",
              " 'Receiving objects:   2% (2/85)',\n",
              " 'Receiving objects:   3% (3/85)',\n",
              " 'Receiving objects:   4% (4/85)',\n",
              " 'Receiving objects:   5% (5/85)',\n",
              " 'Receiving objects:   7% (6/85)',\n",
              " 'Receiving objects:   8% (7/85)',\n",
              " 'Receiving objects:   9% (8/85)',\n",
              " 'Receiving objects:  10% (9/85)',\n",
              " 'Receiving objects:  11% (10/85)',\n",
              " 'Receiving objects:  12% (11/85)',\n",
              " 'Receiving objects:  14% (12/85)',\n",
              " 'Receiving objects:  15% (13/85)',\n",
              " 'Receiving objects:  16% (14/85)',\n",
              " 'Receiving objects:  17% (15/85)',\n",
              " 'Receiving objects:  18% (16/85)',\n",
              " 'Receiving objects:  20% (17/85)',\n",
              " 'Receiving objects:  21% (18/85)',\n",
              " 'Receiving objects:  22% (19/85)',\n",
              " 'Receiving objects:  23% (20/85)',\n",
              " 'Receiving objects:  24% (21/85)',\n",
              " 'Receiving objects:  25% (22/85)',\n",
              " 'Receiving objects:  27% (23/85)',\n",
              " 'Receiving objects:  28% (24/85)',\n",
              " 'Receiving objects:  29% (25/85)',\n",
              " 'Receiving objects:  30% (26/85)',\n",
              " 'Receiving objects:  31% (27/85)',\n",
              " 'Receiving objects:  32% (28/85)',\n",
              " 'Receiving objects:  34% (29/85)',\n",
              " 'Receiving objects:  35% (30/85)',\n",
              " 'Receiving objects:  36% (31/85)',\n",
              " 'Receiving objects:  37% (32/85)',\n",
              " 'Receiving objects:  38% (33/85)',\n",
              " 'Receiving objects:  40% (34/85)',\n",
              " 'Receiving objects:  41% (35/85)',\n",
              " 'Receiving objects:  42% (36/85)',\n",
              " 'Receiving objects:  43% (37/85)',\n",
              " 'Receiving objects:  44% (38/85)',\n",
              " 'Receiving objects:  45% (39/85)',\n",
              " 'Receiving objects:  47% (40/85)',\n",
              " 'Receiving objects:  48% (41/85)',\n",
              " 'Receiving objects:  49% (42/85)',\n",
              " 'Receiving objects:  50% (43/85)',\n",
              " 'Receiving objects:  51% (44/85)',\n",
              " 'Receiving objects:  52% (45/85)',\n",
              " 'Receiving objects:  54% (46/85)',\n",
              " 'Receiving objects:  55% (47/85)',\n",
              " 'Receiving objects:  56% (48/85)',\n",
              " 'Receiving objects:  57% (49/85)',\n",
              " 'Receiving objects:  58% (50/85)',\n",
              " 'Receiving objects:  60% (51/85)',\n",
              " 'Receiving objects:  61% (52/85)',\n",
              " 'Receiving objects:  62% (53/85)',\n",
              " 'Receiving objects:  63% (54/85)',\n",
              " 'Receiving objects:  64% (55/85)',\n",
              " 'Receiving objects:  65% (56/85)',\n",
              " 'Receiving objects:  67% (57/85)',\n",
              " 'Receiving objects:  68% (58/85)',\n",
              " 'Receiving objects:  69% (59/85)',\n",
              " 'remote: Total 85 (delta 20), reused 49 (delta 5), pack-reused 0\\x1b[K',\n",
              " 'Receiving objects:  70% (60/85)',\n",
              " 'Receiving objects:  71% (61/85)',\n",
              " 'Receiving objects:  72% (62/85)',\n",
              " 'Receiving objects:  74% (63/85)',\n",
              " 'Receiving objects:  75% (64/85)',\n",
              " 'Receiving objects:  76% (65/85)',\n",
              " 'Receiving objects:  77% (66/85)',\n",
              " 'Receiving objects:  78% (67/85)',\n",
              " 'Receiving objects:  80% (68/85)',\n",
              " 'Receiving objects:  81% (69/85)',\n",
              " 'Receiving objects:  82% (70/85)',\n",
              " 'Receiving objects:  83% (71/85)',\n",
              " 'Receiving objects:  84% (72/85)',\n",
              " 'Receiving objects:  85% (73/85)',\n",
              " 'Receiving objects:  87% (74/85)',\n",
              " 'Receiving objects:  88% (75/85)',\n",
              " 'Receiving objects:  89% (76/85)',\n",
              " 'Receiving objects:  90% (77/85)',\n",
              " 'Receiving objects:  91% (78/85)',\n",
              " 'Receiving objects:  92% (79/85)',\n",
              " 'Receiving objects:  94% (80/85)',\n",
              " 'Receiving objects:  95% (81/85)',\n",
              " 'Receiving objects:  96% (82/85)',\n",
              " 'Receiving objects:  97% (83/85)',\n",
              " 'Receiving objects:  98% (84/85)',\n",
              " 'Receiving objects: 100% (85/85)',\n",
              " 'Receiving objects: 100% (85/85), 10.80 MiB | 25.96 MiB/s, done.',\n",
              " 'Resolving deltas:   0% (0/20)',\n",
              " 'Resolving deltas:   5% (1/20)',\n",
              " 'Resolving deltas:  10% (2/20)',\n",
              " 'Resolving deltas:  15% (3/20)',\n",
              " 'Resolving deltas:  20% (4/20)',\n",
              " 'Resolving deltas:  25% (5/20)',\n",
              " 'Resolving deltas:  30% (6/20)',\n",
              " 'Resolving deltas:  35% (7/20)',\n",
              " 'Resolving deltas:  40% (8/20)',\n",
              " 'Resolving deltas:  45% (9/20)',\n",
              " 'Resolving deltas:  50% (10/20)',\n",
              " 'Resolving deltas:  55% (11/20)',\n",
              " 'Resolving deltas:  60% (12/20)',\n",
              " 'Resolving deltas:  65% (13/20)',\n",
              " 'Resolving deltas:  70% (14/20)',\n",
              " 'Resolving deltas:  75% (15/20)',\n",
              " 'Resolving deltas:  80% (16/20)',\n",
              " 'Resolving deltas:  85% (17/20)',\n",
              " 'Resolving deltas:  90% (18/20)',\n",
              " 'Resolving deltas:  95% (19/20)',\n",
              " 'Resolving deltas: 100% (20/20)',\n",
              " 'Resolving deltas: 100% (20/20), done.']"
            ]
          },
          "metadata": {},
          "execution_count": 2
        }
      ]
    },
    {
      "cell_type": "code",
      "source": [
        "!cd ArewaDS-Deep-Learning\n",
        "!ls"
      ],
      "metadata": {
        "colab": {
          "base_uri": "https://localhost:8080/"
        },
        "id": "qjnYw-Gd7zg4",
        "outputId": "f82b5c78-a067-46a2-fa8f-ed15832df6ae"
      },
      "execution_count": null,
      "outputs": [
        {
          "output_type": "stream",
          "name": "stdout",
          "text": [
            "ArewaDS-Deep-Learning  drive  sample_data\n"
          ]
        }
      ]
    },
    {
      "cell_type": "code",
      "source": [
        "#create a tensor of all zeroes\n",
        "zeros = torch.zeros(size = (3,4))\n",
        "zeros"
      ],
      "metadata": {
        "colab": {
          "base_uri": "https://localhost:8080/"
        },
        "id": "j06Z16QJXwTL",
        "outputId": "b8abd634-551a-499c-accf-8509cc581d77"
      },
      "execution_count": null,
      "outputs": [
        {
          "output_type": "execute_result",
          "data": {
            "text/plain": [
              "tensor([[0., 0., 0., 0.],\n",
              "        [0., 0., 0., 0.],\n",
              "        [0., 0., 0., 0.]])"
            ]
          },
          "metadata": {},
          "execution_count": 4
        }
      ]
    },
    {
      "cell_type": "code",
      "source": [
        "zero_to_ten = torch.arange(start=0, end=10, step=1 )\n",
        "zero_to_ten"
      ],
      "metadata": {
        "colab": {
          "base_uri": "https://localhost:8080/"
        },
        "id": "YcwBoDlObDiW",
        "outputId": "3f08a909-3238-49f6-cccd-287be0d87412"
      },
      "execution_count": null,
      "outputs": [
        {
          "output_type": "execute_result",
          "data": {
            "text/plain": [
              "tensor([0, 1, 2, 3, 4, 5, 6, 7, 8, 9])"
            ]
          },
          "metadata": {},
          "execution_count": 6
        }
      ]
    },
    {
      "cell_type": "code",
      "source": [
        "ten_zeroes = torch.zeros_like(input=zero_to_ten)\n",
        "ten_zeroes"
      ],
      "metadata": {
        "colab": {
          "base_uri": "https://localhost:8080/"
        },
        "id": "ZkA1FHZNd4P_",
        "outputId": "99316b78-70b9-46da-9ca7-3c3494bbc0d5"
      },
      "execution_count": null,
      "outputs": [
        {
          "output_type": "execute_result",
          "data": {
            "text/plain": [
              "tensor([0, 0, 0, 0, 0, 0, 0, 0, 0, 0])"
            ]
          },
          "metadata": {},
          "execution_count": 8
        }
      ]
    },
    {
      "cell_type": "code",
      "source": [
        "ten_ones = torch.ones_like(input=zero_to_ten)\n",
        "ten_ones"
      ],
      "metadata": {
        "colab": {
          "base_uri": "https://localhost:8080/"
        },
        "id": "hWC-EFqOleUe",
        "outputId": "0bb051c8-0b7e-4112-ac36-674790d69598"
      },
      "execution_count": null,
      "outputs": [
        {
          "output_type": "execute_result",
          "data": {
            "text/plain": [
              "tensor([1, 1, 1, 1, 1, 1, 1, 1, 1, 1])"
            ]
          },
          "metadata": {},
          "execution_count": 10
        }
      ]
    },
    {
      "cell_type": "code",
      "source": [
        "float_32_tensors = torch.tensor([3.0,6.0,9.0],\n",
        "                                dtype=None,\n",
        "                                device=None,\n",
        "                                requires_grad=False)\n"
      ],
      "metadata": {
        "id": "7wW3jkgHnvBU"
      },
      "execution_count": null,
      "outputs": []
    },
    {
      "cell_type": "code",
      "source": [
        "# Default datatype for tensors is float32\n",
        "float_32_tensor = torch.tensor([3.0, 6.0, 9.0],\n",
        "                               dtype=None, # defaults to None, which is torch.float32 or whatever datatype is passed\n",
        "                               device=None, # defaults to None, which uses the default tensor type\n",
        "                               requires_grad=False) # if True, operations performed on the tensor are recorded\n",
        "\n",
        "float_32_tensor.shape, float_32_tensor.dtype, float_32_tensor.device"
      ],
      "metadata": {
        "colab": {
          "base_uri": "https://localhost:8080/"
        },
        "id": "Ka3TQnwvolHe",
        "outputId": "96caa3b0-8941-43d7-b6ce-b1401e9a4d03"
      },
      "execution_count": null,
      "outputs": [
        {
          "output_type": "execute_result",
          "data": {
            "text/plain": [
              "(torch.Size([3]), torch.float32, device(type='cpu'))"
            ]
          },
          "metadata": {},
          "execution_count": 14
        }
      ]
    },
    {
      "cell_type": "code",
      "source": [
        "float_16_tensors = torch.tensor([3.0,6.0,9.0],\n",
        "                                dtype = torch.float16)\n",
        "float_16_tensors.dtype"
      ],
      "metadata": {
        "colab": {
          "base_uri": "https://localhost:8080/"
        },
        "id": "_yJgXe2woxdL",
        "outputId": "b48d7c73-52e3-409a-e120-13c03735fe2c"
      },
      "execution_count": null,
      "outputs": [
        {
          "output_type": "execute_result",
          "data": {
            "text/plain": [
              "torch.float16"
            ]
          },
          "metadata": {},
          "execution_count": 19
        }
      ]
    },
    {
      "cell_type": "code",
      "source": [
        "some_tensors = torch.rand(3,4)\n",
        "print(some_tensors)\n",
        "print(f'shape of tensor : {some_tensors.shape}')\n",
        "print(f'the type of tensor : {some_tensors.dtype}')"
      ],
      "metadata": {
        "colab": {
          "base_uri": "https://localhost:8080/"
        },
        "id": "3ydb-qZ4tSyK",
        "outputId": "8f1512e2-9eff-4265-92c3-2021bd46a224"
      },
      "execution_count": null,
      "outputs": [
        {
          "output_type": "stream",
          "name": "stdout",
          "text": [
            "tensor([[0.4492, 0.4965, 0.7988, 0.7164],\n",
            "        [0.5437, 0.7488, 0.8945, 0.2881],\n",
            "        [0.9690, 0.3462, 0.1839, 0.5875]])\n",
            "shape of tensor : torch.Size([3, 4])\n",
            "the type of tensor : torch.float32\n"
          ]
        }
      ]
    },
    {
      "cell_type": "code",
      "source": [
        "tensor = torch.tensor([1,2,3])\n",
        "tensor + 10"
      ],
      "metadata": {
        "colab": {
          "base_uri": "https://localhost:8080/"
        },
        "id": "QQYZ7tuHm03w",
        "outputId": "c2771d0c-b4ab-4d14-bdf2-13e47c2cebd7"
      },
      "execution_count": null,
      "outputs": [
        {
          "output_type": "execute_result",
          "data": {
            "text/plain": [
              "tensor([11, 12, 13])"
            ]
          },
          "metadata": {},
          "execution_count": 3
        }
      ]
    },
    {
      "cell_type": "code",
      "source": [
        "tensor * 11"
      ],
      "metadata": {
        "colab": {
          "base_uri": "https://localhost:8080/"
        },
        "id": "TJuiizdInWKQ",
        "outputId": "0d1df9f7-7bbe-4416-a3dd-14079ab5bda1"
      },
      "execution_count": null,
      "outputs": [
        {
          "output_type": "execute_result",
          "data": {
            "text/plain": [
              "tensor([11, 22, 33])"
            ]
          },
          "metadata": {},
          "execution_count": 4
        }
      ]
    },
    {
      "cell_type": "code",
      "source": [
        "tensor = tensor - 10\n",
        "tensor"
      ],
      "metadata": {
        "colab": {
          "base_uri": "https://localhost:8080/"
        },
        "id": "TKVc7M9Snm6y",
        "outputId": "c68ad238-76ca-463a-a5bd-3dcb1758d747"
      },
      "execution_count": null,
      "outputs": [
        {
          "output_type": "execute_result",
          "data": {
            "text/plain": [
              "tensor([-9, -8, -7])"
            ]
          },
          "metadata": {},
          "execution_count": 5
        }
      ]
    },
    {
      "cell_type": "code",
      "source": [
        "tensor = tensor + 10\n",
        "tensor"
      ],
      "metadata": {
        "colab": {
          "base_uri": "https://localhost:8080/"
        },
        "id": "vHM4K6A3nzoS",
        "outputId": "5e929779-625f-4acd-cdb8-16864b29859e"
      },
      "execution_count": null,
      "outputs": [
        {
          "output_type": "execute_result",
          "data": {
            "text/plain": [
              "tensor([1, 2, 3])"
            ]
          },
          "metadata": {},
          "execution_count": 6
        }
      ]
    },
    {
      "cell_type": "code",
      "source": [
        "torch.add(tensor,20)"
      ],
      "metadata": {
        "colab": {
          "base_uri": "https://localhost:8080/"
        },
        "id": "N116ThH3oqZz",
        "outputId": "1a8639c9-9dc5-4a07-b819-b43f1f9738f3"
      },
      "execution_count": null,
      "outputs": [
        {
          "output_type": "execute_result",
          "data": {
            "text/plain": [
              "tensor([21, 22, 23])"
            ]
          },
          "metadata": {},
          "execution_count": 8
        }
      ]
    },
    {
      "cell_type": "code",
      "source": [
        "tensor * tensor"
      ],
      "metadata": {
        "colab": {
          "base_uri": "https://localhost:8080/"
        },
        "id": "60ResGCfo7ci",
        "outputId": "ae92d9ea-7094-402e-9a52-67045b32352f"
      },
      "execution_count": null,
      "outputs": [
        {
          "output_type": "execute_result",
          "data": {
            "text/plain": [
              "tensor([1, 4, 9])"
            ]
          },
          "metadata": {},
          "execution_count": 10
        }
      ]
    },
    {
      "cell_type": "code",
      "source": [
        "tensorA = torch.tensor([[1,2],\n",
        "                        [3,4],\n",
        "                        [5,6]], dtype = torch.float32)\n",
        "tensorB = torch.tensor([[7,8],\n",
        "                        [9,10],\n",
        "                        [11,12]], dtype = torch.float32)\n",
        "torch.matmul(tensorA,tensorB)\n"
      ],
      "metadata": {
        "colab": {
          "base_uri": "https://localhost:8080/",
          "height": 211
        },
        "id": "HfbH2cNyrGKO",
        "outputId": "a4daba44-2eeb-4dc8-d093-a4efeceb7345"
      },
      "execution_count": null,
      "outputs": [
        {
          "output_type": "error",
          "ename": "RuntimeError",
          "evalue": "ignored",
          "traceback": [
            "\u001b[0;31m---------------------------------------------------------------------------\u001b[0m",
            "\u001b[0;31mRuntimeError\u001b[0m                              Traceback (most recent call last)",
            "\u001b[0;32m<ipython-input-11-e488d2455c75>\u001b[0m in \u001b[0;36m<cell line: 7>\u001b[0;34m()\u001b[0m\n\u001b[1;32m      5\u001b[0m                         \u001b[0;34m[\u001b[0m\u001b[0;36m9\u001b[0m\u001b[0;34m,\u001b[0m\u001b[0;36m10\u001b[0m\u001b[0;34m]\u001b[0m\u001b[0;34m,\u001b[0m\u001b[0;34m\u001b[0m\u001b[0;34m\u001b[0m\u001b[0m\n\u001b[1;32m      6\u001b[0m                         [11,12]], dtype = torch.float32)\n\u001b[0;32m----> 7\u001b[0;31m \u001b[0mtorch\u001b[0m\u001b[0;34m.\u001b[0m\u001b[0mmatmul\u001b[0m\u001b[0;34m(\u001b[0m\u001b[0mtensorA\u001b[0m\u001b[0;34m,\u001b[0m\u001b[0mtensorB\u001b[0m\u001b[0;34m)\u001b[0m\u001b[0;34m\u001b[0m\u001b[0;34m\u001b[0m\u001b[0m\n\u001b[0m",
            "\u001b[0;31mRuntimeError\u001b[0m: mat1 and mat2 shapes cannot be multiplied (3x2 and 3x2)"
          ]
        }
      ]
    },
    {
      "cell_type": "code",
      "source": [
        "x = torch.arange(0,100,10)\n",
        "print(f'mininim : {x.min()}')\n",
        "print(f'maximum : {x.max()}')\n",
        "print(f'mean : {x.type(torch.float32).mean()}')"
      ],
      "metadata": {
        "colab": {
          "base_uri": "https://localhost:8080/"
        },
        "id": "kQbnDL1C0nBp",
        "outputId": "2d6a1ea1-e87e-4203-a2d0-53ede6d4cafb"
      },
      "execution_count": null,
      "outputs": [
        {
          "output_type": "stream",
          "name": "stdout",
          "text": [
            "mininim : 0\n",
            "maximum : 90\n",
            "mean : 45.0\n"
          ]
        }
      ]
    },
    {
      "cell_type": "code",
      "source": [
        "tensor = torch.arange(10.,100.,10.)\n",
        "tensor.dtype"
      ],
      "metadata": {
        "colab": {
          "base_uri": "https://localhost:8080/"
        },
        "id": "fkEt2v4V3WL4",
        "outputId": "9d0aedc6-3d3c-4411-ae3d-618e6b39e9fc"
      },
      "execution_count": null,
      "outputs": [
        {
          "output_type": "execute_result",
          "data": {
            "text/plain": [
              "torch.float32"
            ]
          },
          "metadata": {},
          "execution_count": 17
        }
      ]
    },
    {
      "cell_type": "code",
      "source": [
        "tensor_float16 = tensor.type(torch.float16)\n",
        "tensor_float16"
      ],
      "metadata": {
        "colab": {
          "base_uri": "https://localhost:8080/"
        },
        "id": "Cv0Tbw9T4DHV",
        "outputId": "256df542-0a6d-4c35-cf6b-9ad7cf019d65"
      },
      "execution_count": null,
      "outputs": [
        {
          "output_type": "execute_result",
          "data": {
            "text/plain": [
              "tensor([10., 20., 30., 40., 50., 60., 70., 80., 90.], dtype=torch.float16)"
            ]
          },
          "metadata": {},
          "execution_count": 18
        }
      ]
    },
    {
      "cell_type": "code",
      "source": [
        "x = torch.arange(1.,8.)\n",
        "x,x.shape"
      ],
      "metadata": {
        "colab": {
          "base_uri": "https://localhost:8080/"
        },
        "id": "riLGT7ae4h5W",
        "outputId": "7f982965-8890-4734-b518-e55905b38b90"
      },
      "execution_count": null,
      "outputs": [
        {
          "output_type": "execute_result",
          "data": {
            "text/plain": [
              "(tensor([1., 2., 3., 4., 5., 6., 7.]), torch.Size([7]))"
            ]
          },
          "metadata": {},
          "execution_count": 20
        }
      ]
    },
    {
      "cell_type": "code",
      "source": [
        "x_reshaped = x.reshape(1,7)\n",
        "x_reshaped,x_reshaped.shape"
      ],
      "metadata": {
        "colab": {
          "base_uri": "https://localhost:8080/"
        },
        "id": "0MxFYrqC6atj",
        "outputId": "4f170b76-382f-4b8f-d426-add02ce096cb"
      },
      "execution_count": null,
      "outputs": [
        {
          "output_type": "execute_result",
          "data": {
            "text/plain": [
              "(tensor([[1., 2., 3., 4., 5., 6., 7.]]), torch.Size([1, 7]))"
            ]
          },
          "metadata": {},
          "execution_count": 23
        }
      ]
    },
    {
      "cell_type": "code",
      "source": [
        "z = x.view(1,7)\n",
        "z, z.shape"
      ],
      "metadata": {
        "colab": {
          "base_uri": "https://localhost:8080/"
        },
        "id": "z8Bithsi625u",
        "outputId": "f145c3fc-5479-4a63-a398-0468c9505c84"
      },
      "execution_count": null,
      "outputs": [
        {
          "output_type": "execute_result",
          "data": {
            "text/plain": [
              "(tensor([[1., 2., 3., 4., 5., 6., 7.]]), torch.Size([1, 7]))"
            ]
          },
          "metadata": {},
          "execution_count": 24
        }
      ]
    },
    {
      "cell_type": "code",
      "source": [],
      "metadata": {
        "id": "wj2OW4Md7plG"
      },
      "execution_count": null,
      "outputs": []
    },
    {
      "cell_type": "code",
      "source": [
        "import torch\n",
        "import random\n"
      ],
      "metadata": {
        "id": "gUJqmKj2SvtG"
      },
      "execution_count": null,
      "outputs": []
    },
    {
      "cell_type": "code",
      "source": [
        "RANDOM_SEED = 42\n",
        "torch.manual_seed(seed= RANDOM_SEED)\n",
        "random_tensor_c = torch.rand(3,4)\n",
        "\n"
      ],
      "metadata": {
        "id": "BfxFrUMWS4Ep"
      },
      "execution_count": null,
      "outputs": []
    },
    {
      "cell_type": "code",
      "source": [
        "!git init\n",
        "!git clone https://github.com/katada3020/ArewaDS-Deep-Learning"
      ],
      "metadata": {
        "colab": {
          "base_uri": "https://localhost:8080/"
        },
        "id": "VHZJ9X4kUqwU",
        "outputId": "165ebb1e-5330-4c8e-9886-3860240553e0"
      },
      "execution_count": null,
      "outputs": [
        {
          "output_type": "stream",
          "name": "stdout",
          "text": [
            "\u001b[33mhint: Using 'master' as the name for the initial branch. This default branch name\u001b[m\n",
            "\u001b[33mhint: is subject to change. To configure the initial branch name to use in all\u001b[m\n",
            "\u001b[33mhint: of your new repositories, which will suppress this warning, call:\u001b[m\n",
            "\u001b[33mhint: \u001b[m\n",
            "\u001b[33mhint: \tgit config --global init.defaultBranch <name>\u001b[m\n",
            "\u001b[33mhint: \u001b[m\n",
            "\u001b[33mhint: Names commonly chosen instead of 'master' are 'main', 'trunk' and\u001b[m\n",
            "\u001b[33mhint: 'development'. The just-created branch can be renamed via this command:\u001b[m\n",
            "\u001b[33mhint: \u001b[m\n",
            "\u001b[33mhint: \tgit branch -m <name>\u001b[m\n",
            "Initialized empty Git repository in /content/.git/\n",
            "Cloning into 'ArewaDS-Deep-Learning'...\n",
            "remote: Enumerating objects: 85, done.\u001b[K\n",
            "remote: Counting objects: 100% (85/85), done.\u001b[K\n",
            "remote: Compressing objects: 100% (75/75), done.\u001b[K\n",
            "remote: Total 85 (delta 20), reused 49 (delta 5), pack-reused 0\u001b[K\n",
            "Receiving objects: 100% (85/85), 10.80 MiB | 7.46 MiB/s, done.\n",
            "Resolving deltas: 100% (20/20), done.\n"
          ]
        }
      ]
    },
    {
      "cell_type": "code",
      "source": [
        "!cd /content/ArewaDS-Deep-Learning/Part_1_Deep_Learning_with_Pytorch/week1/week_1_exercises.ipynb"
      ],
      "metadata": {
        "colab": {
          "base_uri": "https://localhost:8080/"
        },
        "id": "DwOfkwKUU_eW",
        "outputId": "485676ca-9937-433e-e8e0-72416c71f5e4"
      },
      "execution_count": null,
      "outputs": [
        {
          "output_type": "stream",
          "name": "stdout",
          "text": [
            "/bin/bash: line 1: cd: /content/ArewaDS-Deep-Learning/Part_1_Deep_Learning_with_Pytorch/week1/week_1_exercises.ipynb: No such file or directory\n"
          ]
        }
      ]
    },
    {
      "cell_type": "code",
      "source": [
        "j"
      ],
      "metadata": {
        "id": "gOizPcCVVGPf"
      },
      "execution_count": null,
      "outputs": []
    }
  ]
}